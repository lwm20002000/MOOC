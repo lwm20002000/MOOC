{
 "cells": [
  {
   "cell_type": "markdown",
   "metadata": {},
   "source": [
    "# Deviations from Normality"
   ]
  },
  {
   "cell_type": "markdown",
   "metadata": {},
   "source": [
    "The Gaussian Assumption: Standard simplifying assumption asset returns are normally distributed.\n",
    "Therefore, the returns will stay within a specific range within 5%"
   ]
  },
  {
   "cell_type": "markdown",
   "metadata": {},
   "source": [
    "However, Large changes are more frequent in reality.\n",
    "- Skewed normal distributions-> More values skewed to either the positive or negative side.\n",
    "    - Negatively skewed distribution -> the mean is less than the median\n",
    "- Kurtotic distribution -> The tails are more sharp towards zero, meaning the most values are close to the mean whereas there are few outliers. \n",
    "    - A gaussian distribution has a kutosis = 3. Higher than 3 is a fat tail distribution\n",
    "    - The lower the kurtosis value, the more reliably grouped the data is. "
   ]
  },
  {
   "cell_type": "markdown",
   "metadata": {},
   "source": [
    "Question: \n",
    "The lowest recorded monthly return for the Global Macro hedge fund index on the period 1997-2018 is -3.1%, which happens to be 2.5 standard deviations below the historical mean. Such an event would occur with a 0.63% probability if the return distribution was normal. Please indicate how many months on average one would have to wait to observe such an event?     \n",
    "\n",
    "Answer: 158\n",
    "The answer is given by 1/0.63%, which is 158.73 months, or 13.23 years. "
   ]
  },
  {
   "cell_type": "markdown",
   "metadata": {},
   "source": [
    "Wrapup\n",
    "- Asset returns are not normally distributed\n",
    "- Deivations from normality can be severe"
   ]
  },
  {
   "cell_type": "code",
   "execution_count": null,
   "metadata": {},
   "outputs": [],
   "source": []
  }
 ],
 "metadata": {
  "kernelspec": {
   "display_name": "Python 3",
   "language": "python",
   "name": "python3"
  },
  "language_info": {
   "codemirror_mode": {
    "name": "ipython",
    "version": 3
   },
   "file_extension": ".py",
   "mimetype": "text/x-python",
   "name": "python",
   "nbconvert_exporter": "python",
   "pygments_lexer": "ipython3",
   "version": "3.8.5"
  }
 },
 "nbformat": 4,
 "nbformat_minor": 4
}
