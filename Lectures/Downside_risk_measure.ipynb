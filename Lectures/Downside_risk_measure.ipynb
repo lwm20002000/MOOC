{
 "cells": [
  {
   "cell_type": "markdown",
   "metadata": {},
   "source": [
    "# Downside Risk Measures"
   ]
  },
  {
   "cell_type": "markdown",
   "metadata": {},
   "source": [
    "Go beyond volatility, Something that tells about average risk, but extreme risk measures"
   ]
  },
  {
   "cell_type": "markdown",
   "metadata": {},
   "source": [
    "Semi-deviation: the volatility of the sub-example of below-average or below-zero returns. \n",
    "    Takes only half of the distributed returns and calculates its risk\n",
    "    \n",
    "    - Focuses on the volatility of losses rather than with gains"
   ]
  },
  {
   "cell_type": "markdown",
   "metadata": {},
   "source": [
    "VaR - Value at Risk\n",
    "- Represents the maximum \"expected\" loss over a given time period\n",
    "    - Define a specified confidence level - 99% (VaR) - means the worst \n",
    "    - Over a specified holding period - 1 month, what is the max loss you can take in 99% of cases within a timeframe of 1 month"
   ]
  },
  {
   "cell_type": "markdown",
   "metadata": {},
   "source": [
    "Look at return distribution\n",
    "- Exclude the 1% of the worst cases\n",
    "- Consider the worst case of the resulting dataset\n",
    "- VaR is represented as a positive number, even if the loss is shown as a negative percentage\n"
   ]
  },
  {
   "cell_type": "markdown",
   "metadata": {},
   "source": [
    "Question: \n",
    "\n",
    "Consider the following sequence of monthly returns on a portfolio:  -4%, +5%, +2%, -7%, +1%, +0.5%, -2%, -1%, -2%, +5%.What is the 90% monthly VaR for the portfolio? \n",
    "\n",
    "Answer: 4%\n",
    "\n",
    "Out of 10 monthly returns, the worst outcome is -7%, so 1 out of 10 returns is equal to -7%, and 9 out of ten are better than -7%. The worst return after excluding the 10% worst return, that is after excluding the worst return, is therefore -4%. VaR is typically expressed as a positive number (-4% means 4% loss): so 4% is the worst loss after excluding the 10% worst losses."
   ]
  },
  {
   "cell_type": "markdown",
   "metadata": {},
   "source": [
    "Conditional VaR\n",
    "Expected loss beyond VaR\n",
    "- The average of losses that were considered the worst outcomes of the VaR rate\n",
    "- What is the average of the distribution beyond the value at risk"
   ]
  },
  {
   "cell_type": "markdown",
   "metadata": {},
   "source": [
    "Question:\n",
    "    \n",
    "Consider the following sequence of monthly returns on a portfolio:  -4%, +5%, +2%, -7%, +1%, +0.5%, -2%, -1%, -2%, +5%. What is the 80% monthly CVaR for the portfolio? \n",
    "\n",
    "Answer: 5.5%\n",
    "\n",
    "Out of 10 monthly returns, the worst outcome is -7% and the second worst outcome is -4%, so 8 out of 10 outcomes are better than -4%. The worst return after excluding the 20% worst return, that is after excluding the two worst return, is therefore -2%. VaR is typically expressed as a positive number so 2% is the 80% VaR. The CVaR is given by the average loss beyond the VaR, that is -(-7%-4%)/2=5.5%."
   ]
  },
  {
   "cell_type": "markdown",
   "metadata": {},
   "source": [
    "Wrapup\n",
    "- Uncertainty on the downside is what investors are most concerned about\n",
    "- Large losses are particularly important to know about\n",
    "- VaR provides an estimate of potential loss at a given confidence level"
   ]
  },
  {
   "cell_type": "code",
   "execution_count": null,
   "metadata": {},
   "outputs": [],
   "source": []
  }
 ],
 "metadata": {
  "kernelspec": {
   "display_name": "Python 3",
   "language": "python",
   "name": "python3"
  },
  "language_info": {
   "codemirror_mode": {
    "name": "ipython",
    "version": 3
   },
   "file_extension": ".py",
   "mimetype": "text/x-python",
   "name": "python",
   "nbconvert_exporter": "python",
   "pygments_lexer": "ipython3",
   "version": "3.8.5"
  }
 },
 "nbformat": 4,
 "nbformat_minor": 4
}
