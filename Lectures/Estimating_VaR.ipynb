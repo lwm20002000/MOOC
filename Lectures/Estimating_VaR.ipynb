{
 "cells": [
  {
   "cell_type": "markdown",
   "metadata": {},
   "source": [
    "# Estimating VaR"
   ]
  },
  {
   "cell_type": "markdown",
   "metadata": {},
   "source": [
    "Methods for computing VaR\n",
    "1. Historical (non-parametric)\n",
    "2. Variance-covariance (parametric gaussian)\n",
    "3. Parametric non gaussian\n",
    "4. Cornish-fihser (semi-parametric)"
   ]
  },
  {
   "cell_type": "markdown",
   "metadata": {},
   "source": [
    "# Method1: Historical methodology (non-parametric)"
   ]
  },
  {
   "cell_type": "markdown",
   "metadata": {},
   "source": [
    "take a sample of rturns and throw away the 1%\n",
    "- calculation of VaR based on the distribution of historical changes n the value of the current portfolio under market prices over the specified historical observation window\n",
    "\n",
    "Pros:\n",
    "- No assumption - baed of historical data, no model\n",
    "Cons\n",
    "- Therefore, relying on historcal data, sensitive to the specific historical events. does not correspond to curernt risk measure"
   ]
  },
  {
   "cell_type": "markdown",
   "metadata": {},
   "source": [
    "# Method2: Parametric Gaussian Methodology\n",
    "\n",
    "- calculation based on the protfolo volatility\n",
    "- volatilities and correlations of components\n",
    "- Simple -> assume a gaussian distribution\n"
   ]
  },
  {
   "cell_type": "markdown",
   "metadata": {},
   "source": [
    "Question:\n",
    "Consider a portfolio with a +.5% monthly expected return and 4% monthly volatility. What is the 95% monthly Gaussian VaR for the portfolio?\n",
    "\n",
    "Answer: 6.1%\n",
    "\n",
    "VaR = -(.5%-1.65x4%) = 6.1%  "
   ]
  },
  {
   "cell_type": "markdown",
   "metadata": {},
   "source": [
    "# Cornish-Fisher VaR\n",
    "- An alternative to parametric exists semi-parametric approach\n",
    "    - Does not force you to assume any type of distribution\n",
    "    \n",
    "- Commonly used measure"
   ]
  },
  {
   "attachments": {
    "3293f9d3-48c3-47f0-96ee-8747047f86b0.png": {
     "image/png": "[encoded data removed]"
    }
   },
   "cell_type": "markdown",
   "metadata": {},
   "source": [
    "Question: Consider an asset with a skewness equal to -1.2 and kurtosis equal to 6. Keeping in mind that Z5%, the critical value for probability 95% is -1.65, indicate what would be the modified critical value for probability 95% using the Cornish Fisher expansion.\n",
    "    \n",
    "Answer: -1.9\n",
    "\n",
    "Use the Cornish fisher formula\n",
    "\n",
    "![cornish-fisher.png](attachment:3293f9d3-48c3-47f0-96ee-8747047f86b0.png)"
   ]
  },
  {
   "cell_type": "markdown",
   "metadata": {},
   "source": [
    "# Wrapup\n",
    "\n",
    "- trade off between sample risk vs model risk (historical or current data)\n",
    "\n",
    "- Cornish-fisher is often regarded as a good compromise"
   ]
  },
  {
   "cell_type": "code",
   "execution_count": null,
   "metadata": {},
   "outputs": [],
   "source": []
  }
 ],
 "metadata": {
  "kernelspec": {
   "display_name": "Python 3",
   "language": "python",
   "name": "python3"
  },
  "language_info": {
   "codemirror_mode": {
    "name": "ipython",
    "version": 3
   },
   "file_extension": ".py",
   "mimetype": "text/x-python",
   "name": "python",
   "nbconvert_exporter": "python",
   "pygments_lexer": "ipython3",
   "version": "3.8.5"
  }
 },
 "nbformat": 4,
 "nbformat_minor": 4
}
